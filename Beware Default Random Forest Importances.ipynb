{
 "cells": [
  {
   "cell_type": "markdown",
   "metadata": {},
   "source": [
    "#### http://parrt.cs.usfca.edu/doc/rf-importance/index.html\n",
    "https://projecteuclid.org/euclid.ss/1009213726\n",
    "\n",
    "http://blog.datadive.net/selecting-good-features-part-ii-linear-models-and-regularization/\n",
    "\n",
    "http://blog.datadive.net/selecting-good-features-part-i-univariate-selection/\n",
    "\n",
    "http://scikit-learn.org/stable/modules/feature_selection.html\n",
    "\n",
    "https://stackoverflow.com/questions/15810339/how-are-feature-importances-in-randomforestclassifier-determined"
   ]
  },
  {
   "cell_type": "markdown",
   "metadata": {},
   "source": [
    "#### Code : https://github.com/parrt/random-forest-importances"
   ]
  },
  {
   "cell_type": "markdown",
   "metadata": {},
   "source": [
    "### https://github.com/rhiever/sklearn-benchmarks"
   ]
  },
  {
   "cell_type": "code",
   "execution_count": 33,
   "metadata": {},
   "outputs": [],
   "source": [
    "from sklearn.ensemble import RandomForestRegressor, RandomForestClassifier\n",
    "import numpy as np\n",
    "import pandas as pd\n",
    "from matplotlib import pyplot as plt\n",
    "%matplotlib inline\n",
    "from sklearn.ensemble.forest import _generate_unsampled_indices\n",
    "import warnings\n",
    "from sklearn.metrics import r2_score"
   ]
  },
  {
   "cell_type": "code",
   "execution_count": 13,
   "metadata": {},
   "outputs": [],
   "source": []
  },
  {
   "cell_type": "code",
   "execution_count": 23,
   "metadata": {},
   "outputs": [
    {
     "name": "stdout",
     "output_type": "stream",
     "text": [
      "<class 'pandas.core.frame.DataFrame'>\n",
      "RangeIndex: 49352 entries, 0 to 49351\n",
      "Data columns (total 6 columns):\n",
      "bathrooms         49352 non-null float64\n",
      "bedrooms          49352 non-null int64\n",
      "price             49352 non-null int64\n",
      "longitude         49352 non-null float64\n",
      "latitude          49352 non-null float64\n",
      "interest_level    49352 non-null int64\n",
      "dtypes: float64(3), int64(3)\n",
      "memory usage: 2.3 MB\n"
     ]
    }
   ],
   "source": [
    "df = pd.read_csv('data/rent.csv')\n",
    "df.info()"
   ]
  },
  {
   "cell_type": "code",
   "execution_count": 118,
   "metadata": {},
   "outputs": [
    {
     "data": {
      "text/plain": [
       "RandomForestRegressor(bootstrap=True, criterion='mse', max_depth=None,\n",
       "           max_features='auto', max_leaf_nodes=None,\n",
       "           min_impurity_decrease=0.0, min_impurity_split=None,\n",
       "           min_samples_leaf=1, min_samples_split=2,\n",
       "           min_weight_fraction_leaf=0.0, n_estimators=100, n_jobs=-1,\n",
       "           oob_score=True, random_state=None, verbose=0, warm_start=False)"
      ]
     },
     "execution_count": 118,
     "metadata": {},
     "output_type": "execute_result"
    }
   ],
   "source": [
    "df.columns\n",
    "features = ['bathrooms', 'bedrooms', 'price', 'longitude', 'latitude']\n",
    "dfr = df[features]\n",
    "X_train,y_train = dfr.drop('price',axis=1),dfr['price']\n",
    "X_train['random'] = np.random.random(size = len(X_train))\n",
    "rf = RandomForestRegressor(n_estimators=100,min_samples_leaf=1,n_jobs=-1,oob_score=True)\n",
    "rf.fit(X_train,y_train)"
   ]
  },
  {
   "cell_type": "code",
   "execution_count": 119,
   "metadata": {},
   "outputs": [
    {
     "data": {
      "text/plain": [
       "array([0.02786145, 0.1042944 , 0.17900241, 0.54072218, 0.14811955])"
      ]
     },
     "execution_count": 119,
     "metadata": {},
     "output_type": "execute_result"
    }
   ],
   "source": [
    "rf.feature_importances_"
   ]
  },
  {
   "cell_type": "code",
   "execution_count": 120,
   "metadata": {},
   "outputs": [
    {
     "data": {
      "text/plain": [
       "Index(['bathrooms', 'bedrooms', 'longitude', 'latitude', 'random'], dtype='object')"
      ]
     },
     "execution_count": 120,
     "metadata": {},
     "output_type": "execute_result"
    }
   ],
   "source": [
    "X_train.columns"
   ]
  },
  {
   "cell_type": "code",
   "execution_count": 121,
   "metadata": {},
   "outputs": [
    {
     "data": {
      "image/png": "[encoded data removed]",
      "text/plain": [
       "<matplotlib.figure.Figure at 0x1a2c7ef240>"
      ]
     },
     "metadata": {},
     "output_type": "display_data"
    }
   ],
   "source": [
    "plt.barh(X_train.columns,rf.feature_importances_)\n",
    "plt.show()"
   ]
  },
  {
   "cell_type": "code",
   "execution_count": 128,
   "metadata": {},
   "outputs": [
    {
     "name": "stdout",
     "output_type": "stream",
     "text": [
      "bathrooms  : -0.012868169774495453\n",
      "bedrooms  : -0.2520069897895516\n",
      "longitude  : -2.3867225143996555\n",
      "latitude  : -1.5763588616820274\n",
      "random  : -0.01767395021164453\n"
     ]
    },
    {
     "data": {
      "image/png": "[encoded data removed]",
      "text/plain": [
       "<matplotlib.figure.Figure at 0x1a2e421da0>"
      ]
     },
     "metadata": {},
     "output_type": "display_data"
    }
   ],
   "source": [
    "imp = permutation_importances(rf,X_train,y_train,oob_regression_r2_score)\n",
    "I = pd.DataFrame(data={'Feature':X_train.columns, 'Importance':imp})\n",
    "I = I.set_index('Feature')\n",
    "I = I.sort_values('Importance', ascending=True)\n",
    "\n",
    "plt.barh(np.arange(len(I.index)),I.Importance,height=.6, tick_label=I.index)\n",
    "plt.show()"
   ]
  },
  {
   "cell_type": "code",
   "execution_count": 108,
   "metadata": {},
   "outputs": [
    {
     "name": "stdout",
     "output_type": "stream",
     "text": [
      "Index(['bathrooms', 'bedrooms', 'price', 'longitude', 'latitude',\n",
      "       'interest_level'],\n",
      "      dtype='object')\n"
     ]
    },
    {
     "data": {
      "text/plain": [
       "RandomForestClassifier(bootstrap=True, class_weight=None, criterion='gini',\n",
       "            max_depth=None, max_features='auto', max_leaf_nodes=None,\n",
       "            min_impurity_decrease=0.0, min_impurity_split=None,\n",
       "            min_samples_leaf=5, min_samples_split=2,\n",
       "            min_weight_fraction_leaf=0.0, n_estimators=100, n_jobs=-1,\n",
       "            oob_score=True, random_state=None, verbose=0, warm_start=False)"
      ]
     },
     "execution_count": 108,
     "metadata": {},
     "output_type": "execute_result"
    }
   ],
   "source": [
    "print(df.columns)\n",
    "features = ['bathrooms', 'bedrooms', 'price', 'longitude', 'latitude','interest_level']\n",
    "dfc = df[features]\n",
    "X_train,y_train = dfc.drop('interest_level',axis=1),dfc['interest_level']\n",
    "X_train['random'] = np.random.random(size = len(X_train))\n",
    "rf = RandomForestClassifier(n_estimators=100,min_samples_leaf=5,n_jobs=-1,oob_score=True)\n",
    "rf.fit(X_train,y_train)"
   ]
  },
  {
   "cell_type": "code",
   "execution_count": 109,
   "metadata": {},
   "outputs": [
    {
     "data": {
      "image/png": "[encoded data removed]",
      "text/plain": [
       "<matplotlib.figure.Figure at 0x1a2e542390>"
      ]
     },
     "metadata": {},
     "output_type": "display_data"
    }
   ],
   "source": [
    "plt.barh(X_train.columns,rf.feature_importances_)\n",
    "plt.show()"
   ]
  },
  {
   "cell_type": "code",
   "execution_count": 117,
   "metadata": {},
   "outputs": [
    {
     "name": "stdout",
     "output_type": "stream",
     "text": [
      "bathrooms  : 0.7085427135678392\n",
      "bedrooms  : 0.6257497163235533\n",
      "price  : 0.5877775976657481\n",
      "longitude  : 0.6861120116712596\n",
      "latitude  : 0.6906913600259361\n",
      "random  : 0.7137502026260334\n"
     ]
    },
    {
     "data": {
      "image/png": "[encoded data removed]",
      "text/plain": [
       "<matplotlib.figure.Figure at 0x1a2e521f98>"
      ]
     },
     "metadata": {},
     "output_type": "display_data"
    }
   ],
   "source": [
    "imp = permutation_importances(rf,X_train,y_train,oob_classifier_accuracy)\n",
    "\n",
    "I = pd.DataFrame(data={'Feature':X_train.columns, 'Importance':imp})\n",
    "I = I.set_index('Feature')\n",
    "I = I.sort_values('Importance', ascending=True)\n",
    "\n",
    "plt.barh(np.arange(len(I.index)),I.Importance,height=.6, tick_label=I.index)\n",
    "plt.show()"
   ]
  },
  {
   "cell_type": "code",
   "execution_count": 98,
   "metadata": {},
   "outputs": [],
   "source": [
    "def permutation_importances(rf,X_train,y_train,metric):\n",
    "    baseline= metric(rf,X_train,y_train)\n",
    "    X_train = X_train.copy(deep=False) # shallow copy\n",
    "    imp=[]\n",
    "    for col in X_train.columns:\n",
    "        save = X_train[col].copy()\n",
    "        X_train[col] = np.random.permutation(X_train[col])\n",
    "        m = metric(rf,X_train,y_train)\n",
    "        X_train[col ]= save\n",
    "        imp.append(baseline - m)\n",
    "        print(col,\" :\", m)\n",
    "    return np.array(imp)\n",
    "\n",
    "def permutation_importances_raw(rf, X_train, y_train, metric):\n",
    "    \"\"\"\n",
    "    Return array of importances from pre-fit rf; metric is function\n",
    "    that measures accuracy or R^2 or similar. This function\n",
    "    works for regressors and classifiers.\n",
    "    \"\"\"\n",
    "    baseline = metric(rf, X_train, y_train)\n",
    "    print(baseline)\n",
    "    X_train = X_train.copy(deep=False) # shallow copy\n",
    "    imp = []\n",
    "    for col in X_train.columns:\n",
    "        save = X_train[col].copy()\n",
    "        X_train[col] = np.random.permutation(X_train[col])\n",
    "        m = metric(rf, X_train, y_train)\n",
    "        X_train[col] = save\n",
    "        imp.append(baseline - m)\n",
    "        print(baseline - m)\n",
    "    return np.array(imp)"
   ]
  },
  {
   "cell_type": "code",
   "execution_count": 111,
   "metadata": {},
   "outputs": [],
   "source": [
    "def oob_classifier_accuracy(rf,X_train,y_train):\n",
    "    X= X_train.values\n",
    "    y = y_train.values\n",
    "    n_samples = len(X)\n",
    "    n_classes = len(np.unique(y))\n",
    "    predictions = np.zeros((n_samples,n_classes))\n",
    "    for tree in rf.estimators_:\n",
    "        unsampled_indices = _generate_unsampled_indices(tree.random_state,n_samples)\n",
    "        tree_preds = tree.predict_proba(X[unsampled_indices,:])\n",
    "        predictions[unsampled_indices] += tree_preds\n",
    "    predicted_class_indices = np.argmax(predictions,axis=1)\n",
    "    predict_classes = [rf.classes_[i] for i in predicted_class_indices]\n",
    "    oob_score = np.mean(predict_classes == y)\n",
    "    return oob_score\n",
    "    \n",
    "    "
   ]
  },
  {
   "cell_type": "code",
   "execution_count": 42,
   "metadata": {},
   "outputs": [],
   "source": [
    "def oob_regression_r2_score(rf,X_train,y_train):\n",
    "    X = X_train.values\n",
    "    y = y_train.values\n",
    "    \n",
    "    n_samples = len(X)\n",
    "    predictions = np.zeros(n_samples)\n",
    "    n_predictions = np.zeros(n_samples)\n",
    "    for tree in rf.estimators_:\n",
    "        unsampled_indices = _generate_unsampled_indices(tree.random_state,n_samples)\n",
    "        tree_preds = tree.predict(X[unsampled_indices,:])\n",
    "        predictions[unsampled_indices] += tree_preds\n",
    "        n_predictions[unsampled_indices] +=1\n",
    "        \n",
    "    if(n_predictions == 0).any():\n",
    "        warnings.warn(\"Too few trees; some variables do not have OOB scores. \")\n",
    "        n_predictions[n_predictions==0]=1\n",
    "    predictions /= n_predictions\n",
    "    oob_score = r2_score(y, predictions)\n",
    "    return oob_score"
   ]
  },
  {
   "cell_type": "code",
   "execution_count": null,
   "metadata": {},
   "outputs": [],
   "source": []
  },
  {
   "cell_type": "code",
   "execution_count": null,
   "metadata": {},
   "outputs": [],
   "source": []
  }
 ],
 "metadata": {
  "kernelspec": {
   "display_name": "Python 3",
   "language": "python",
   "name": "python3"
  },
  "language_info": {
   "codemirror_mode": {
    "name": "ipython",
    "version": 3
   },
   "file_extension": ".py",
   "mimetype": "text/x-python",
   "name": "python",
   "nbconvert_exporter": "python",
   "pygments_lexer": "ipython3",
   "version": "3.6.4"
  }
 },
 "nbformat": 4,
 "nbformat_minor": 2
}
